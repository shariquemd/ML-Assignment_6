{
 "cells": [
  {
   "cell_type": "code",
   "execution_count": null,
   "id": "0de10a0b-cf0c-42d7-a9a5-9874e94b4cfa",
   "metadata": {},
   "outputs": [],
   "source": [
    "Q1. Pearson correlation coefficient is a measure of the linear relationship between two variables. Suppose you have collected data on the amount of time students spend studying for an exam and their final exam scores. Calculate the Pearson correlation coefficient between these two variables and interpret the result.\n",
    "Interpretation:\n",
    "If the Pearson correlation coefficient is close to 1, it suggests a strong positive linear relationship, indicating that as the amount of time spent studying increases, the final exam scores tend to increase as well. If the coefficient is close to -1, it indicates a strong negative linear relationship, suggesting that more study time is associated with lower exam scores. A coefficient close to 0 implies a weak or no linear relationship.\n",
    "\n",
    "Q2. Spearman's rank correlation is a measure of the monotonic relationship between two variables. Suppose you have collected data on the amount of sleep individuals get each night and their overall job satisfaction level on a scale of 1 to 10. Calculate the Spearman's rank correlation between these two variables and interpret the result.\n",
    "Interpretation:\n",
    "Spearman's rank correlation assesses the monotonic relationship, indicating whether the variables tend to move in the same or opposite direction without assuming a linear relationship. A positive Spearman's rank correlation suggests that as the amount of sleep increases, job satisfaction tends to increase, while a negative correlation implies that more sleep is associated with lower job satisfaction. A correlation close to 0 suggests a weak or no monotonic relationship.\n",
    "\n",
    "Q3. Suppose you are conducting a study to examine the relationship between the number of hours of exercise per week and body mass index (BMI) in a sample of adults. You collected data on both variables for 50 participants. Calculate the Pearson correlation coefficient and the Spearman's rank correlation between these two variables and compare the results.\n",
    "Interpretation:\n",
    "The Pearson correlation coefficient assesses the strength and direction of a linear relationship. A positive coefficient suggests that more exercise is associated with a higher BMI, while a negative coefficient indicates the opposite.\n",
    "Spearman's rank correlation assesses the monotonic relationship. If the Spearman's rank correlation is similar to the Pearson correlation, it suggests a linear relationship. If Spearman's rank correlation differs, it implies a non-linear, possibly monotonic, relationship.\n",
    "\n",
    "\n",
    "Q4. A researcher is interested in examining the relationship between the number of hours individuals spend watching television per day and their level of physical activity. The researcher collected data on both variables from a sample of 50 participants. Calculate the Pearson correlation coefficient between these two variables.\n",
    "Interpretation:\n",
    "The Pearson correlation coefficient will provide insight into the strength and direction of the linear relationship between the number of hours spent watching television and the level of physical activity. A positive coefficient suggests that as TV-watching increases, physical activity tends to decrease, while a negative coefficient indicates the opposite.\n",
    "\n",
    "Q5. A survey was conducted to examine the relationship between age and preference for a particular brand of soft drink. The survey results are shown below:\n",
    "Interpretation:\n",
    "The Pearson correlation coefficient will measure the strength and direction of the linear relationship between age and soft drink preferences.\n",
    "The Spearman rank correlation coefficient assesses the monotonic relationship between the two variables.\n",
    "\n",
    "Q6. A company is interested in examining the relationship between the number of sales calls made per day and the number of sales made per week. The company collected data on both variables from a sample of 30 sales representatives. Calculate the Pearson correlation coefficient between these two variables.\n",
    "Interpretation:\n",
    "The Pearson correlation coefficient will indicate the strength and direction of the linear relationship between the number of sales calls made per day and the number of sales made per week. A positive coefficient suggests that an increase in the number of sales calls is associated with an increase in weekly sales, while a negative coefficient implies the opposite. A coefficient close to 0 suggests a weak or no linear relationship."
   ]
  },
  {
   "cell_type": "code",
   "execution_count": null,
   "id": "8f160567-9420-4e73-ac8a-0f1753eaad9b",
   "metadata": {},
   "outputs": [],
   "source": []
  },
  {
   "cell_type": "code",
   "execution_count": null,
   "id": "9c375386-c4ba-4fdb-8c55-422a68161234",
   "metadata": {},
   "outputs": [],
   "source": []
  },
  {
   "cell_type": "code",
   "execution_count": null,
   "id": "f19d9ed1-81d1-42f6-bcb3-e68c9780d64c",
   "metadata": {},
   "outputs": [],
   "source": []
  },
  {
   "cell_type": "code",
   "execution_count": null,
   "id": "212b9654-de26-441a-83cd-b2712a104585",
   "metadata": {},
   "outputs": [],
   "source": []
  },
  {
   "cell_type": "code",
   "execution_count": null,
   "id": "614d9e84-be4b-4908-abcf-5c993a74f79d",
   "metadata": {},
   "outputs": [],
   "source": []
  },
  {
   "cell_type": "code",
   "execution_count": null,
   "id": "1a6e49fb-a387-4631-ab5a-95b70f52a41f",
   "metadata": {},
   "outputs": [],
   "source": []
  },
  {
   "cell_type": "code",
   "execution_count": null,
   "id": "48dce11b-1842-41d4-b27d-9e2b5083e4d9",
   "metadata": {},
   "outputs": [],
   "source": []
  }
 ],
 "metadata": {
  "kernelspec": {
   "display_name": "Python 3 (ipykernel)",
   "language": "python",
   "name": "python3"
  },
  "language_info": {
   "codemirror_mode": {
    "name": "ipython",
    "version": 3
   },
   "file_extension": ".py",
   "mimetype": "text/x-python",
   "name": "python",
   "nbconvert_exporter": "python",
   "pygments_lexer": "ipython3",
   "version": "3.10.8"
  }
 },
 "nbformat": 4,
 "nbformat_minor": 5
}
